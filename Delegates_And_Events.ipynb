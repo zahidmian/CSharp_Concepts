{
 "cells": [
  {
   "cell_type": "markdown",
   "metadata": {},
   "source": [
    "### Delegates And Events"
   ]
  },
  {
   "cell_type": "markdown",
   "metadata": {},
   "source": [
    "#### Delegates\n",
    "* A pointer to a method\n",
    "* Points to a method with a particular signature\n",
    "* Invoke delegate (execute it)\n",
    "* Delegate can point to multiple methods\n",
    "* Pass parameters"
   ]
  },
  {
   "cell_type": "code",
   "execution_count": 13,
   "metadata": {},
   "outputs": [
    {
     "name": "stdout",
     "output_type": "stream",
     "text": [
      "value of x is 9 and type of x is System.Int32\n",
      "value of z is 9 and type of z is System.Int32\n"
     ]
    }
   ],
   "source": [
    "// remember a method is just a reference, so you should be able to store it in a variable\n",
    "// simple example\n",
    "\n",
    "int DoSomething(){\n",
    "    return 9;\n",
    "}\n",
    "\n",
    "// if you do this, then it will just call the method and save the return value in x \n",
    "var x = DoSomething();\n",
    "var z = x;\n",
    "Console.WriteLine($\"value of x is {x} and type of x is {x.GetType()}\");\n",
    "Console.WriteLine($\"value of z is {z} and type of z is {z.GetType()}\");"
   ]
  },
  {
   "cell_type": "code",
   "execution_count": 24,
   "metadata": {},
   "outputs": [
    {
     "name": "stdout",
     "output_type": "stream",
     "text": [
      "value of x is Submission#25+ReferenceToPointer type of x is Submission#25+ReferenceToPointer\n",
      "value of z is 9 and type of z is System.Int32\n",
      "value of a is 9 and type of a is System.Int32\n"
     ]
    }
   ],
   "source": [
    "// so how can we save a pointer to the method?\n",
    "// We have to create a delegate type variable!\n",
    "int DoSomething(){\n",
    "    return 9;\n",
    "}\n",
    "\n",
    "// define a delegate type that returns an int ... the name is the name of this type\n",
    "delegate int ReferenceToPointer();\n",
    "// now you can save a reference to any method that returns an int and takes 0 parameters\n",
    "\n",
    "// so let's point our implementation method to a variable x\n",
    "ReferenceToPointer x = DoSomething;\n",
    "\n",
    "// now we can call x like a method\n",
    "var z = x();\n",
    "var a = x();\n",
    "Console.WriteLine($\"value of x is {x} type of x is {x.GetType()}\");\n",
    "Console.WriteLine($\"value of z is {z} and type of z is {z.GetType()}\");\n",
    "Console.WriteLine($\"value of a is {z} and type of a is {z.GetType()}\");"
   ]
  },
  {
   "cell_type": "code",
   "execution_count": 37,
   "metadata": {},
   "outputs": [
    {
     "name": "stdout",
     "output_type": "stream",
     "text": [
      "called Add2Ints\n",
      "value of a is 8\n",
      "called Mult2Ints\n",
      "value of a is 15\n",
      "called Mult2Ints\n",
      "value of a is 40\n",
      "called Absolute\n",
      "value of a is 3\n",
      "Hi!\n",
      "Hi!\n"
     ]
    }
   ],
   "source": [
    "// so the only stipulation is that the delegate has to match the signature of the method you want to point to\n",
    "\n",
    "int Add2Ints(int x, int y){\n",
    "    Console.WriteLine(\"called Add2Ints\");\n",
    "    return x + y;\n",
    "}\n",
    "\n",
    "int Mult2Ints(int a, int b) {\n",
    "    Console.WriteLine(\"called Mult2Ints\");\n",
    "    return a * b;\n",
    "}\n",
    "\n",
    "int Absolute(int a) {\n",
    "    Console.WriteLine(\"called Absolute\");\n",
    "    return Math.Abs(a);\n",
    "}\n",
    "\n",
    "static void PrintHi(){\n",
    "    Console.WriteLine(\"Hi!\");\n",
    "}\n",
    "\n",
    "// so now we have four methods: \n",
    "// two that that two arguments and one that takes only one argument (returns int)\n",
    "// and one that takes 0 arguments and doesn't return anything\n",
    "\n",
    "// We need to create a delegate for each method signature\n",
    "\n",
    "delegate int MethodThatTakes2ArgsAndReturnsInt(int a, int b);\n",
    "delegate int MethodThatTakes1ArgsAndReturnsInt(int a);\n",
    "delegate void MethodThatTakes0ArgsAndReturnsVoid();\n",
    "\n",
    "// now we can save pointers to each method in variables using the delegate types\n",
    "MethodThatTakes2ArgsAndReturnsInt m1 = Add2Ints;\n",
    "MethodThatTakes2ArgsAndReturnsInt m2 = Mult2Ints;\n",
    "MethodThatTakes1ArgsAndReturnsInt m3 = Absolute;\n",
    "MethodThatTakes0ArgsAndReturnsVoid m4 = PrintHi;\n",
    "\n",
    "// so now let's call each method\n",
    "var a = m1(3,5);\n",
    "Console.WriteLine($\"value of a is {a}\");\n",
    "\n",
    "a = m2(3,5);\n",
    "Console.WriteLine($\"value of a is {a}\");\n",
    "\n",
    "a = m2(5,8);\n",
    "Console.WriteLine($\"value of a is {a}\");\n",
    "\n",
    "a = m3(-3);\n",
    "Console.WriteLine($\"value of a is {a}\");\n",
    "\n",
    "m4();\n",
    "\n",
    "// you can also \"invoke\" delegate types explicitly\n",
    "m4.Invoke();"
   ]
  },
  {
   "cell_type": "markdown",
   "metadata": {},
   "source": [
    "#### Mulitcast"
   ]
  },
  {
   "cell_type": "code",
   "execution_count": 47,
   "metadata": {},
   "outputs": [
    {
     "name": "stdout",
     "output_type": "stream",
     "text": [
      "called Add2Ints\n",
      "called Mult2Ints\n",
      "About to call methods using GetInvocationList\n",
      "called Add2Ints\n",
      "value of z is 9\n",
      "called Mult2Ints\n",
      "value of z is 20\n"
     ]
    }
   ],
   "source": [
    "// Ok, there's one more thing you can do with delegates\n",
    "// you can \"add\" or \"substract\" invocations\n",
    "\n",
    "int x = 10;\n",
    "delegate int WhatUp(int k, int m);\n",
    "\n",
    "int Add2Ints(int x, int y){\n",
    "    Console.WriteLine(\"called Add2Ints\");\n",
    "    return x + y;\n",
    "}\n",
    "\n",
    "int Mult2Ints(int a, int b) {\n",
    "    Console.WriteLine(\"called Mult2Ints\");\n",
    "    return a * b;\n",
    "}\n",
    "\n",
    "// store reference to the method as usual\n",
    "WhatUp m = Add2Ints;\n",
    "// so far, nothing new\n",
    "\n",
    "// now let's add another invocation\n",
    "m += Mult2Ints;\n",
    "\n",
    "// let's see what happens when we call m\n",
    "m(4, 5);\n",
    "\n",
    "// silly example, but it works!\n",
    "\n",
    "// here's proof that m actually has multiple invocations\n",
    "Console.WriteLine(\"About to call methods using GetInvocationList\");\n",
    "foreach(WhatUp m in m.GetInvocationList()){\n",
    "    var z = m(4,5);\n",
    "    Console.WriteLine($\"value of z is {z}\");\n",
    "}"
   ]
  },
  {
   "cell_type": "markdown",
   "metadata": {},
   "source": [
    "#### Lambda expressions  \n",
    "**anonymous methods**"
   ]
  },
  {
   "cell_type": "code",
   "execution_count": 53,
   "metadata": {},
   "outputs": [
    {
     "name": "stdout",
     "output_type": "stream",
     "text": [
      "the value of z is 10\n"
     ]
    }
   ],
   "source": [
    "// first let's declare a delegate that returns an int and takes two arguments\n",
    "delegate int CalcMethod(int a, int b);\n",
    "\n",
    "// now let's use a lamda function to create delegate\n",
    "CalcMethod Calc = (x,y) => x + y;\n",
    "// above statement is read as \"x and y goes to adding x and y\"\n",
    "\n",
    "// the lambda above is equivalent to \n",
    "// int Calc(int x, int y){\n",
    "//     return x + y;\n",
    "// }\n",
    "\n",
    "// now we can call Calc as a pointer\n",
    "var z = Calc(4, 6);\n",
    "Console.WriteLine($\"the value of z is {z}\");"
   ]
  },
  {
   "cell_type": "markdown",
   "metadata": {},
   "source": [
    "#### **Func**(tion) Types and **Action** Types  \n",
    "**Func** Types: predefined delegates with signatures from 0 to 16 parameters  \n",
    "**Action** Types: similar to Func but do not return value"
   ]
  },
  {
   "cell_type": "code",
   "execution_count": 58,
   "metadata": {},
   "outputs": [
    {
     "name": "stdout",
     "output_type": "stream",
     "text": [
      "value of p3 is 11\n"
     ]
    }
   ],
   "source": [
    "// since we know C# has predefined delegates we don't need to define a delegate\n",
    "// so here we create a reference variable called Calc \n",
    "//    that takes 2 parameters (float, int) and returns int (note the order)\n",
    "Func<float, int, int> Calc = (x,y) => (int)(x+y) ;\n",
    "var p1 = 5.8f;\n",
    "var p2 = 6;\n",
    "int p3;\n",
    "p3 = Calc(p1, p2); \n",
    "Console.WriteLine($\"value of p3 is {p3}\");\n"
   ]
  },
  {
   "cell_type": "code",
   "execution_count": 62,
   "metadata": {},
   "outputs": [
    {
     "name": "stdout",
     "output_type": "stream",
     "text": [
      "value of x is 25\n"
     ]
    }
   ],
   "source": [
    "// Let's do one more\n",
    "// since we're only passing one argument, we don't need the paranthesis\n",
    "Func<int, int> Squared = x => x*x;\n",
    "\n",
    "var x = Squared(5);\n",
    "Console.WriteLine($\"value of x is {x}\");"
   ]
  },
  {
   "cell_type": "code",
   "execution_count": 65,
   "metadata": {},
   "outputs": [
    {
     "name": "stdout",
     "output_type": "stream",
     "text": [
      "value of x is 5\n",
      "value of y is 64\n"
     ]
    }
   ],
   "source": [
    "// Now let's do one with Action\n",
    "// very similar to Func, but no return value\n",
    "// use curly brackets to write a block of code\n",
    "Action<int, int> PrintNumbers = (x,y) => {\n",
    "    Console.WriteLine($\"value of x is {x}\");\n",
    "    Console.WriteLine($\"value of y is {y}\");\n",
    "} ;\n",
    "\n",
    "// now let's call our method\n",
    "PrintNumbers(5, 64);"
   ]
  },
  {
   "cell_type": "markdown",
   "metadata": {},
   "source": [
    "#### Events"
   ]
  },
  {
   "cell_type": "code",
   "execution_count": 85,
   "metadata": {},
   "outputs": [
    {
     "name": "stdout",
     "output_type": "stream",
     "text": [
      "About to change name from Zahid to Zahid Mian\n",
      "And now about to call NameChanged\n"
     ]
    }
   ],
   "source": [
    "// let's say we want to send an alert whenever something happens to our object \n",
    "// (like a mouse event or keyboard event)\n",
    "// in our case, we want to create an Employee class that sends an alert whenever the employee name changes\n",
    "\n",
    "\n",
    "// First, let's define a public delegate (this should make sense now)\n",
    "// we can call this delegate whatever we want, but let's call NameChangedDelegate\n",
    "// we're going to send an alert with the old value and new value\n",
    "// this is nothing new, we've seen this already\n",
    "public delegate void NameChangedDelegate(string oldValue, string newValue);\n",
    "\n",
    "// let's create our Employee object\n",
    "var emp = new Employee(\"Zahid\");\n",
    "\n",
    "// let's create a method that will called whenever a name is changed\n",
    "void OnNameChanged(string oldValue, string newValue) {\n",
    "    Console.WriteLine($\"Hey, {oldValue} changed his name to {newValue}\");\n",
    "}\n",
    "\n",
    "// now let's change the name\n",
    "emp.Name = \"Zahid Mian\";\n",
    "// if we look at the output, we can see that OnNameChanged was never called\n",
    "// it was about to be called, but wasn't\n",
    "// and the reason is that we didn't tell the employee object which caller method to invoke\n",
    "\n",
    "public class Employee{\n",
    "    // define a variable of type NameChangedDelegate\n",
    "    // we've seen this before as well\n",
    "    public NameChangedDelegate NameChanged;\n",
    "\n",
    "    private string _name;\n",
    "\n",
    "    public Employee(string name) {\n",
    "        _name = name;\n",
    "    }\n",
    "\n",
    "    public string Name {\n",
    "        get {return _name;}\n",
    "        set {\n",
    "            Console.WriteLine($\"About to change name from {_name} to {value}\");\n",
    "            var oldValue = _name;\n",
    "            _name = value;\n",
    "            Console.WriteLine($\"And now about to call NameChanged\");\n",
    "            // only invoke this if there is a valid pointer to a method\n",
    "            if(NameChanged != null) {\n",
    "                NameChanged(oldValue, value);\n",
    "            }\n",
    "        }\n",
    "    }\n",
    "}\n"
   ]
  },
  {
   "cell_type": "code",
   "execution_count": 86,
   "metadata": {},
   "outputs": [
    {
     "name": "stdout",
     "output_type": "stream",
     "text": [
      "About to change name from Zahid Mian to Formerly known as Zahid\n",
      "And now about to call NameChanged\n",
      "Hey, Zahid Mian changed his name to Formerly known as Zahid\n"
     ]
    }
   ],
   "source": [
    "// NOTE: make sure you run the cell above for this example to work\n",
    "\n",
    "// ok, now let's the tell the employee object that we can handle this \"event\"\n",
    "emp.NameChanged = OnNameChanged;\n",
    "\n",
    "// lets change the name\n",
    "emp.Name = \"Formerly known as Zahid\";\n",
    "\n",
    "// And it works!"
   ]
  },
  {
   "cell_type": "code",
   "execution_count": 87,
   "metadata": {},
   "outputs": [
    {
     "name": "stdout",
     "output_type": "stream",
     "text": [
      "About to change name from Formerly known as Zahid to Back to just Zahid\n",
      "And now about to call NameChanged\n",
      "Hey, Formerly known as Zahid changed his name to Back to just Zahid\n",
      "Formerly known as Zahid did you really change your name to Back to just Zahid?\n"
     ]
    }
   ],
   "source": [
    "// NOTE: make sure you run the two cells above for this example to work\n",
    "\n",
    "// of course, since we know that you assign multiple invocations to a delegate type ...\n",
    "// we can create multiple methods to handle the name change\n",
    "\n",
    "// let's add another method to send a confirmation message about name change\n",
    "void OnNameChanged2(string oldValue, string newValue) {\n",
    "    Console.WriteLine($\"{oldValue} did you really change your name to {newValue}?\");\n",
    "}\n",
    "\n",
    "emp.NameChanged += OnNameChanged2;\n",
    "emp.Name = \"Back to just Zahid\";\n"
   ]
  },
  {
   "cell_type": "code",
   "execution_count": 88,
   "metadata": {},
   "outputs": [
    {
     "name": "stdout",
     "output_type": "stream",
     "text": [
      "About to change name from Back to just Zahid to Zahid\n",
      "And now about to call NameChanged\n",
      "Back to just Zahid did you really change your name to Zahid?\n"
     ]
    }
   ],
   "source": [
    "// NOTE: make sure you run the three cells above for this example to work\n",
    "\n",
    "// Ok, so far so good, but!!!!\n",
    "// What if we make a mistake and instead of adding an invocation you assign it\n",
    "emp.NameChanged = OnNameChanged2;\n",
    "emp.Name = \"Zahid\";\n",
    "\n",
    "// hmm ... looks like we lost OnNameChange invocation"
   ]
  },
  {
   "cell_type": "code",
   "execution_count": 95,
   "metadata": {},
   "outputs": [
    {
     "name": "stdout",
     "output_type": "stream",
     "text": [
      "About to change name from Zahid to The Artist Formerly Known as Zahid\n",
      "And now about to call NameChanged\n",
      "Hey, Zahid changed his name to The Artist Formerly Known as Zahid\n",
      "Zahid did you really change your name to The Artist Formerly Known as Zahid?\n"
     ]
    }
   ],
   "source": [
    "// All this just to introduce the Event\n",
    "// Event is just a delegate with \"special powers\"\n",
    "\n",
    "public delegate void NameChangedDelegate(string oldValue, string newValue);\n",
    "\n",
    "public class Employee{\n",
    "    // this time we'll use event instead of a delegate\n",
    "    public event NameChangedDelegate NameChanged;\n",
    "\n",
    "    private string _name;\n",
    "\n",
    "    public Employee(string name) {\n",
    "        _name = name;\n",
    "    }\n",
    "\n",
    "    public string Name {\n",
    "        get {return _name;}\n",
    "        set {\n",
    "            Console.WriteLine($\"About to change name from {_name} to {value}\");\n",
    "            var oldValue = _name;\n",
    "            _name = value;\n",
    "            Console.WriteLine($\"And now about to call NameChanged\");\n",
    "            // only invoke this if there is a valid pointer to a method\n",
    "            if(NameChanged != null) {\n",
    "                NameChanged(oldValue, value);\n",
    "            }\n",
    "        }\n",
    "    }\n",
    "}\n",
    "\n",
    "void OnNameChanged(string oldValue, string newValue) {\n",
    "    Console.WriteLine($\"Hey, {oldValue} changed his name to {newValue}\");\n",
    "}\n",
    "\n",
    "void OnNameChanged2(string oldValue, string newValue) {\n",
    "    Console.WriteLine($\"{oldValue} did you really change your name to {newValue}?\");\n",
    "}\n",
    "\n",
    "var emp = new Employee(\"Zahid\");\n",
    "// whereas with a delegate we could assign a method to it like this\n",
    "// with an event, it will faile (compile error)\n",
    "// error CS0070: The event 'Employee.NameChanged' can only appear on the left hand side of += or -= (except when used from within the type 'Employee')\n",
    "// emp.NameChanged = OnNameChanged;\n",
    "\n",
    "// so we must always add an invocation method\n",
    "emp.NameChanged += OnNameChanged;\n",
    "emp.NameChanged += OnNameChanged2;\n",
    "\n",
    "// lets see what happens when we change the name\n",
    "emp.Name = \"The Artist Formerly Known as Zahid\";\n",
    "\n",
    "// Woo-hoo!"
   ]
  },
  {
   "cell_type": "markdown",
   "metadata": {},
   "source": [
    "#### Event Args"
   ]
  },
  {
   "cell_type": "code",
   "execution_count": 100,
   "metadata": {},
   "outputs": [
    {
     "name": "stdout",
     "output_type": "stream",
     "text": [
      "About to change name from Zahid to zAHIDm \n",
      "Name was changed from Zahid to zAHIDm \n",
      "Zahid did you really change your name to zAHIDm ?\n",
      "About to change name from zAHIDm  to Zahid Mian\n",
      "Name was changed from zAHIDm  to Zahid Mian\n",
      "zAHIDm  did you really change your name to Zahid Mian?\n"
     ]
    }
   ],
   "source": [
    "public class NameChangeEventArgs : EventArgs {\n",
    "    public string OldValue { get; set;}\n",
    "    public string NewValue { get; set;}\n",
    "}\n",
    "\n",
    "// Notice the signature of our new delegate\n",
    "// This is the \"right way\" to manage events\n",
    "public delegate void NameChangedDelegate(object sender, NameChangeEventArgs args);\n",
    "\n",
    "// the Employee class remains the same (except for the delegate name)\n",
    "public class Employee{\n",
    "    // define a variable of event type NameChangedDelegate\n",
    "    public event NameChangedDelegate NameChanged;\n",
    "\n",
    "    private string _name;\n",
    "\n",
    "    public Employee(string name) {\n",
    "        _name = name;\n",
    "    }\n",
    "\n",
    "    public string Name {\n",
    "        get {return _name;}\n",
    "        set {\n",
    "            Console.WriteLine($\"About to change name from {_name} to {value}\");\n",
    "            var oldValue = _name;\n",
    "            _name = value;\n",
    "            // only invoke this if there is a valid pointer to a method\n",
    "            if(NameChanged != null) {\n",
    "                NameChanged(this, new NameChangeEventArgs{NewValue=value, OldValue = oldValue});\n",
    "            }\n",
    "        }\n",
    "    }\n",
    "}\n",
    "\n",
    "// lets create the methods to handle the events\n",
    "// notice the signature change!\n",
    "static void OnNameChanged(object sender, NameChangeEventArgs args) {\n",
    "    Console.WriteLine($\"Name was changed from {args.OldValue} to {args.NewValue}\");\n",
    "}\n",
    "\n",
    "static void OnNameChanged2(object sender, NameChangeEventArgs args) {\n",
    "    Console.WriteLine($\"{args.OldValue} did you really change your name to {args.NewValue}?\");\n",
    "}\n",
    "\n",
    "var emp = new Employee(\"Zahid\");\n",
    "emp.NameChanged += OnNameChanged;\n",
    "emp.NameChanged += OnNameChanged2;\n",
    "\n",
    "emp.Name = \"zAHIDm \";\n",
    "emp.Name = \"Zahid Mian\";\n",
    "\n"
   ]
  },
  {
   "cell_type": "code",
   "execution_count": null,
   "metadata": {},
   "outputs": [],
   "source": []
  }
 ],
 "metadata": {
  "kernelspec": {
   "display_name": ".NET (C#)",
   "language": "C#",
   "name": ".net-csharp"
  },
  "language_info": {
   "file_extension": ".cs",
   "mimetype": "text/x-csharp",
   "name": "C#",
   "pygments_lexer": "csharp",
   "version": "8.0"
  }
 },
 "nbformat": 4,
 "nbformat_minor": 4
}
