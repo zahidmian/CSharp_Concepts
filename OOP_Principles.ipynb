{
 "cells": [
  {
   "cell_type": "markdown",
   "metadata": {},
   "source": [
    "### OOP (Object Oriented Principles)"
   ]
  },
  {
   "cell_type": "markdown",
   "metadata": {},
   "source": [
    "#### Basic Class Definition"
   ]
  },
  {
   "cell_type": "code",
   "execution_count": 2,
   "metadata": {},
   "outputs": [],
   "source": [
    "public class Employee {\n",
    "    private int _id; // class field\n",
    "    private String _Name;\n",
    "    static int _something;\n",
    "\n",
    "    public Employee() {\n",
    "    // Default Constructor\n",
    "    }\n",
    "\n",
    "    public Employee(String Name) {\n",
    "        // overload Constructor\n",
    "        this._Name = Name;\n",
    "    }\n",
    "    \n",
    "    // Properties\n",
    "    public int ID{get;set;}\n",
    "    public String Name{\n",
    "        get {return _Name;}\n",
    "        set {_Name = value;}\n",
    "    }\n",
    "    \n",
    "    // Read-only property using lambda\n",
    "    public string FullName => $\"{_Name}\";\n",
    "}\n",
    "\n"
   ]
  },
  {
   "cell_type": "markdown",
   "metadata": {},
   "source": [
    "#### Access Modifiers  \n",
    "* **public**: access not restricted  \n",
    "* **protected**: access limited to containing class or derived types  \n",
    "* **internal**: access limited to current assembly\n",
    "* **protected internal**: access limited to current assembly or derived types\n",
    "* **private**: access limited to containing type\n",
    "* **private protected**: access limited to containing class or types derived class within assembly"
   ]
  },
  {
   "cell_type": "code",
   "execution_count": 6,
   "metadata": {},
   "outputs": [
    {
     "name": "stdout",
     "output_type": "stream",
     "text": [
      "5\n"
     ]
    }
   ],
   "source": [
    "public class Employee{\n",
    "    public Employee(int id){\n",
    "        _id = id;\n",
    "    }\n",
    "    private int _id; // not accessible outside this class\n",
    "    public int ID{\n",
    "        // by default get will inherit access from property\n",
    "        get {return _id;}\n",
    "        // override default access for set\n",
    "        private set{_id = value;} // only this class can set value\n",
    "    }\n",
    "}\n",
    "\n",
    "var emp = new Employee(5);\n",
    "Console.WriteLine($\"{emp.ID}\");"
   ]
  },
  {
   "cell_type": "code",
   "execution_count": 7,
   "metadata": {},
   "outputs": [
    {
     "ename": "Unhandled Exception",
     "evalue": "(2,26): error CS0122: 'Employee._id' is inaccessible due to its protection level",
     "output_type": "error",
     "traceback": [
      "(2,26): error CS0122: 'Employee._id' is inaccessible due to its protection level"
     ]
    }
   ],
   "source": [
    "// try to access private member\n",
    "Console.WriteLine($\"{emp._id}\");"
   ]
  },
  {
   "cell_type": "code",
   "execution_count": 8,
   "metadata": {},
   "outputs": [
    {
     "ename": "Unhandled Exception",
     "evalue": "(2,1): error CS0272: The property or indexer 'Employee.ID' cannot be used in this context because the set accessor is inaccessible",
     "output_type": "error",
     "traceback": [
      "(2,1): error CS0272: The property or indexer 'Employee.ID' cannot be used in this context because the set accessor is inaccessible"
     ]
    }
   ],
   "source": [
    "// try to change id\n",
    "emp.ID = 6;"
   ]
  },
  {
   "cell_type": "markdown",
   "metadata": {},
   "source": [
    "#### Optional Parameters"
   ]
  },
  {
   "cell_type": "code",
   "execution_count": 12,
   "metadata": {},
   "outputs": [
    {
     "name": "stdout",
     "output_type": "stream",
     "text": [
      "Weight: 0\n"
     ]
    }
   ],
   "source": [
    "// provide default values\n",
    "public void AddEmployee(int ID, string Name, int Age =0, decimal Weight = 0) \n",
    "{\n",
    "    Console.WriteLine($\"Weight: {Weight}\");\n",
    "}\n",
    "\n",
    "AddEmployee(5, \"Zahid\", 25); // weight is not supplied"
   ]
  },
  {
   "cell_type": "markdown",
   "metadata": {},
   "source": [
    "#### Extension Methods  \n",
    "**Note: This example doesn't run in Juypter Lab**"
   ]
  },
  {
   "cell_type": "code",
   "execution_count": 19,
   "metadata": {},
   "outputs": [
    {
     "ename": "Unhandled Exception",
     "evalue": "(4,23): error CS1109: Extension methods must be defined in a top level static class; IntExtenstions is a nested class\n(9,23): error CS1109: Extension methods must be defined in a top level static class; IntExtenstions is a nested class",
     "output_type": "error",
     "traceback": [
      "(4,23): error CS1109: Extension methods must be defined in a top level static class; IntExtenstions is a nested class\n(9,23): error CS1109: Extension methods must be defined in a top level static class; IntExtenstions is a nested class"
     ]
    }
   ],
   "source": [
    "public static class IntExtenstions\n",
    "{\n",
    "    // add a custom method (extension) to int type\n",
    "    public static int Half(this int source){\n",
    "        return source/2;\n",
    "    }\n",
    "\n",
    "    // add a custom method (extension) to int type\n",
    "    public static int AddFive(this int source) {\n",
    "        return source + 5;\n",
    "    }\n",
    "}\n",
    "\n",
    "// obviously int type doesn't have method called Half or AddFive\n",
    "int answer = 44;\n",
    "\n",
    "Action<int> d = val => {\n",
    "    Console.WriteLine($\"type of value is {val.GetType()}\");\n",
    "    Console.WriteLine($\"val equals {val.GetType()}\");\n",
    "};\n",
    "\n",
    "d(answer);\n"
   ]
  },
  {
   "cell_type": "markdown",
   "metadata": {},
   "source": [
    "### Inheritence, Interfaces and Events"
   ]
  },
  {
   "cell_type": "markdown",
   "metadata": {},
   "source": [
    "#### define Interface"
   ]
  },
  {
   "cell_type": "code",
   "execution_count": 22,
   "metadata": {},
   "outputs": [],
   "source": [
    "public interface IDrawingObject{\n",
    "    // interfaces can contain signatures for:\n",
    "    // methods, properties, indexers, and events\n",
    "\n",
    "    // interfaces CANNOT contain fields \n",
    "\n",
    "    // DO NOT use public modifiers\n",
    "    void DrawShape();\n",
    "\n",
    "    // property definition\n",
    "    int FillColor{get; set;}\n",
    "\n",
    "    // event definition\n",
    "    event EventHandler ShapeDrawn;\n",
    "}"
   ]
  },
  {
   "cell_type": "markdown",
   "metadata": {},
   "source": [
    "#### create an abstract class"
   ]
  },
  {
   "cell_type": "code",
   "execution_count": 25,
   "metadata": {},
   "outputs": [],
   "source": [
    "public abstract class Shape {\n",
    "    // only derived types have access to _h, _w\n",
    "    protected float _h, _w;\n",
    "    \n",
    "    // abstract classes cannot have constructors\n",
    "    public abstract float Area();\n",
    "}"
   ]
  },
  {
   "cell_type": "markdown",
   "metadata": {},
   "source": [
    "#### Create a concrete Class that is a subclass of Shape and implements IDrawingObject"
   ]
  },
  {
   "cell_type": "code",
   "execution_count": 34,
   "metadata": {},
   "outputs": [
    {
     "name": "stdout",
     "output_type": "stream",
     "text": [
      "The area of rect is 20\n"
     ]
    }
   ],
   "source": [
    "public class Rectangle : Shape, IDrawingObject {\n",
    "    public Rectangle(float h, float w){\n",
    "        _h = h;\n",
    "        _w = w;\n",
    "    }\n",
    "    protected int _fillColor;\n",
    "    public event EventHandler ShapeDrawn; \n",
    "    \n",
    "    // must use override modifier\n",
    "    public override float Area(){\n",
    "        return _h * _w;\n",
    "    }\n",
    "\n",
    "    // must implement this method becuase it's part of the Interface\n",
    "    public void DrawShape(){\n",
    "        Console.WriteLine(\"Draw \" + this.GetType());\n",
    "\n",
    "        // raise event if any object subscribed\n",
    "        if(ShapeDrawn != null){\n",
    "            ShapeDrawn(this, new EventArgs());\n",
    "        }\n",
    "    }\n",
    "\n",
    "    // must implement this \n",
    "    public int FillColor{\n",
    "        get{ return _fillColor;}\n",
    "        set{ _fillColor = value;}\n",
    "    }\n",
    "}\n",
    "\n",
    "var rect = new Rectangle(4, 5);\n",
    "Console.WriteLine($\"The area of rect is {rect.Area()}\");"
   ]
  },
  {
   "cell_type": "code",
   "execution_count": 35,
   "metadata": {},
   "outputs": [
    {
     "name": "stdout",
     "output_type": "stream",
     "text": [
      "The area of square is 25\n"
     ]
    }
   ],
   "source": [
    "public class Square : Rectangle {\n",
    "    public Square(float w): base(w, w){\n",
    "        // do something else\n",
    "    }\n",
    "    // do not need to do anything else \n",
    "    // but you can override parent implementation\n",
    "    // NOTE: An abstract method is implicitly a virtual method\n",
    "\n",
    "}\n",
    "\n",
    "var square = new Square(5);\n",
    "Console.WriteLine($\"The area of square is {square.Area()}\");"
   ]
  },
  {
   "cell_type": "code",
   "execution_count": 73,
   "metadata": {},
   "outputs": [
    {
     "name": "stdout",
     "output_type": "stream",
     "text": [
      "The area of square is 25\n"
     ]
    }
   ],
   "source": [
    "// it is possible to override implementation of Area()\n",
    "public class Square : Rectangle {\n",
    "    // create a constructor that calls the base constructor\n",
    "    public Square(float w): base(w, w){\n",
    "        // do something else\n",
    "    }\n",
    "    // override implementation\n",
    "    public float Area(){\n",
    "        // custom implementation\n",
    "        return this._w * this._w;\n",
    "    }\n",
    "}\n",
    "\n",
    "var square = new Square(5);\n",
    "Console.WriteLine($\"The area of square is {square.Area()}\");"
   ]
  },
  {
   "cell_type": "markdown",
   "metadata": {},
   "source": [
    "#### Using parent class to store references"
   ]
  },
  {
   "cell_type": "code",
   "execution_count": 77,
   "metadata": {},
   "outputs": [
    {
     "name": "stdout",
     "output_type": "stream",
     "text": [
      "Type of shape is Submission#35+Rectangle\n"
     ]
    }
   ],
   "source": [
    "// use interface type to store reference\n",
    "Shape shape = new Rectangle(4,5);\n",
    "Console.WriteLine($\"Type of shape is {shape.GetType()}\");\n"
   ]
  },
  {
   "cell_type": "code",
   "execution_count": 82,
   "metadata": {},
   "outputs": [
    {
     "name": "stdout",
     "output_type": "stream",
     "text": [
      "35\n",
      "25\n",
      "6\n"
     ]
    }
   ],
   "source": [
    "// create a collection of different Shape types\n",
    "List<Shape> shapes = new List<Shape>();\n",
    "shapes.Add(new Rectangle(5, 7));\n",
    "shapes.Add(new Square(5));\n",
    "shapes.Add(new Rectangle(3, 2));\n",
    "\n",
    "foreach (var sh in shapes){\n",
    "    Console.WriteLine(sh.Area());\n",
    "}"
   ]
  },
  {
   "cell_type": "markdown",
   "metadata": {},
   "source": [
    "#### IComparable  \n",
    "* Must implement CompareTo(object obj) method"
   ]
  },
  {
   "cell_type": "code",
   "execution_count": 92,
   "metadata": {},
   "outputs": [
    {
     "name": "stdout",
     "output_type": "stream",
     "text": [
      "before sort\n",
      "ID: 5 Name: Adam\n",
      "ID: 10 Name: Zahid\n",
      "ID: 2 Name: Mary\n",
      "after sort\n",
      "ID: 5 Name: Adam\n",
      "ID: 2 Name: Mary\n",
      "ID: 10 Name: Zahid\n"
     ]
    }
   ],
   "source": [
    "public class Employee : IComparable {\n",
    "    public Employee(int id, string name){\n",
    "        _id = id;\n",
    "        _name = name;\n",
    "    }\n",
    "    public Employee(int id) {\n",
    "        _id = id;\n",
    "    }\n",
    "\n",
    "    private int _id;\n",
    "    private string _name;\n",
    "\n",
    "    public int CompareTo(object obj){\n",
    "        var emp = (Employee) obj;\n",
    "        return String.Compare(this.Name, emp.Name);\n",
    "    }\n",
    "\n",
    "    // explicit definition\n",
    "    /***\n",
    "    int IComparable.CompareTo(object obj){\n",
    "        var emp = (Employee) obj;\n",
    "        return String.Compare(this.Name, emp.Name);\n",
    "    }\t\n",
    "    ***/\n",
    "\n",
    "    // NOTE about implicit vs explicit interface implementation\n",
    "    // with implicit, both examples will work \n",
    "    // (assumeing InterfaceType and InterfaceMethod are valid)\n",
    "    /***\n",
    "    Employee e = new Employee(1, \"Zahid\");\n",
    "    e.InterfaceMethod(); // OK\n",
    "    ((InterfaceType) e).InterfaceMethod(); // OK\n",
    "    ***/\n",
    "\n",
    "    // with explicit, method can only be called from InterfaceType\n",
    "    /***\n",
    "    Employee e = new Employee(1, \"Zahid\");\n",
    "    e.InterfaceMethod(); // Compile error\n",
    "    ((InterfaceType) e).InterfaceMethod(); // OK\t\n",
    "    ***/\n",
    "\n",
    "    public string Name{\n",
    "        get {return _name;}\n",
    "        set {_name = value;}\n",
    "    }\n",
    "    public int ID{\n",
    "        // by default get will inherit access from property\n",
    "        get {return _id;}\n",
    "        // override default access for set\n",
    "        private set{_id = value;}\n",
    "    }\n",
    "\n",
    "    // ToString is a virtual method so must have public override modifiers\n",
    "    public override string ToString(){\n",
    "        return $\"ID: {_id} Name: {_name}\";\n",
    "    }\n",
    "}\n",
    "\n",
    "Employee[] emps = new Employee[] {\n",
    "    new Employee(5, \"Adam\"), \n",
    "    new Employee(10, \"Zahid\"), \n",
    "    new Employee(2, \"Mary\")\n",
    "};\n",
    "\n",
    "Action<Employee[]> print = list => {\n",
    "  foreach(var l in list){\n",
    "      Console.WriteLine(l);\n",
    "  }  \n",
    "};\n",
    "\n",
    "Console.WriteLine(\"before sort\");\n",
    "print(emps);\n",
    "\n",
    "Array.Sort(emps);\n",
    "Console.WriteLine(\"after sort\");\n",
    "\n",
    "print(emps);\n"
   ]
  },
  {
   "cell_type": "code",
   "execution_count": null,
   "metadata": {},
   "outputs": [],
   "source": []
  }
 ],
 "metadata": {
  "kernelspec": {
   "display_name": ".NET (C#)",
   "language": "C#",
   "name": ".net-csharp"
  },
  "language_info": {
   "file_extension": ".cs",
   "mimetype": "text/x-csharp",
   "name": "C#",
   "pygments_lexer": "csharp",
   "version": "8.0"
  }
 },
 "nbformat": 4,
 "nbformat_minor": 4
}
