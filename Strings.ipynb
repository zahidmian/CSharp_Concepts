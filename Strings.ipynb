{
 "cells": [
  {
   "cell_type": "markdown",
   "metadata": {},
   "source": [
    "### Common String Methods"
   ]
  },
  {
   "cell_type": "code",
   "execution_count": 2,
   "metadata": {},
   "outputs": [
    {
     "name": "stdout",
     "output_type": "stream",
     "text": [
      "\"abc,db\".Split(',')[0]: abc\n",
      "\"abc,db\".Length: 6\n",
      "\"abc,db\".Substring(1,2): bc\n",
      "str.ToCharArray().Reverse(): System.Linq.Enumerable+ReverseIterator`1[System.Char]\n",
      "str.ToCharArray().Reverse().ToArray(): bd,cba\n",
      "String.IsNullOrEmpty(abc,db): False\n",
      "\"abc,db\".ToUpper(): ABC,DB\n",
      "\"abc,db\".Insert(2,\"_howdy_\"): ab_howdy_c,db\n",
      "\"abc,db\".Replace(\"b\", \"_eee_\"): a_eee_c,d_eee_\n",
      "\"abc,db\".IndexOf(\"b\"): 1\n",
      "\"abc,db\".LastIndexOf(\"b\"): 5\n",
      "\"abc,db\".Remove(2,3): abb\n",
      "\"abc,db\".StartsWith(\"b\"): False\n",
      "\"abc,db\".EndsWith(\"b\"): True\n",
      "abc,db"
     ]
    }
   ],
   "source": [
    "Action<string> x = (str) => {\n",
    "\tConsole.WriteLine($\"\\\"{str}\\\".Split(',')[0]: {str.Split(',')[0]}\"); \n",
    "\tConsole.WriteLine($\"\\\"{str}\\\".Length: {str.Length}\"); \n",
    "\tConsole.WriteLine($\"\\\"{str}\\\".Substring(1,2): {str.Substring(1,2)}\"); \n",
    "\tConsole.WriteLine($\"str.ToCharArray().Reverse(): {str.ToCharArray().Reverse()}\");\n",
    "\tConsole.WriteLine($\"str.ToCharArray().Reverse().ToArray(): {new string(str.ToCharArray().Reverse().ToArray())}\");\n",
    "\tConsole.WriteLine($\"String.IsNullOrEmpty({str}): {String.IsNullOrEmpty(str)}\");\n",
    "\tConsole.WriteLine($\"\\\"{str}\\\".ToUpper(): {str.ToUpper()}\");\n",
    "\tvar s = str.Insert(2,\"_howdy_\");\n",
    "\tConsole.WriteLine($\"\\\"{str}\\\".Insert(2,\\\"_howdy_\\\"): {s}\");\n",
    "\tConsole.WriteLine($\"\\\"{str}\\\".Replace(\\\"b\\\", \\\"_eee_\\\"): {str.Replace(\"b\", \"_eee_\")}\");\n",
    "\tConsole.WriteLine($\"\\\"{str}\\\".IndexOf(\\\"b\\\"): {str.IndexOf(\"b\")}\");\n",
    "\tConsole.WriteLine($\"\\\"{str}\\\".LastIndexOf(\\\"b\\\"): {str.LastIndexOf(\"b\")}\");\n",
    "\tConsole.WriteLine($\"\\\"{str}\\\".Remove(2,3): {str.Remove(2,3)}\");\n",
    "\tConsole.WriteLine($\"\\\"{str}\\\".StartsWith(\\\"b\\\"): {str.StartsWith(\"b\")}\");\n",
    "\tConsole.WriteLine($\"\\\"{str}\\\".EndsWith(\\\"b\\\"): {str.EndsWith(\"b\")}\");\n",
    "\tforeach (Char c in str)\n",
    "\t\tConsole.Write(c);\n",
    "\t\n",
    "};\n",
    "x(\"abc,db\");"
   ]
  },
  {
   "cell_type": "markdown",
   "metadata": {},
   "source": [
    "### StringBuilder"
   ]
  },
  {
   "cell_type": "code",
   "execution_count": 4,
   "metadata": {},
   "outputs": [
    {
     "name": "stdout",
     "output_type": "stream",
     "text": [
      "sb .Capacity: 16\t.Length: 6\t.MaxCapacity: 2147483647\n",
      "abcd_bxyz\n",
      "abcd_bxyznext line\n",
      "\n",
      "abcd_bxyznext line\n",
      "???\n",
      "\n",
      "abc_zzzzz_d_bxyznext line\n",
      "???\n",
      "\n"
     ]
    }
   ],
   "source": [
    "Action<string> x = (str) => {\n",
    "\tSystem.Text.StringBuilder sb = new StringBuilder(str);\n",
    "\tConsole.WriteLine($\"sb .Capacity: {sb.Capacity}\\t.Length: {sb.Length}\\t.MaxCapacity: {sb.MaxCapacity}\");\n",
    "\tConsole.WriteLine($\"{sb.Append(\"xyz\")}\"); // append at end of last location\n",
    "\tConsole.WriteLine($\"{sb.AppendLine(\"next line\")}\"); // insert line at end \n",
    "\tConsole.WriteLine($\"{sb.AppendLine(\"???\")}\"); // insert line at end \n",
    "\tConsole.WriteLine($\"{sb.Insert(3,\"_zzzzz_\")}\"); // insert at a specific location\n",
    "};\n",
    "\n",
    "x(\"abcd_b\");"
   ]
  },
  {
   "cell_type": "markdown",
   "metadata": {},
   "source": [
    "#### Formatting Strings"
   ]
  },
  {
   "cell_type": "code",
   "execution_count": 9,
   "metadata": {},
   "outputs": [
    {
     "name": "stdout",
     "output_type": "stream",
     "text": [
      "1234.536.ToString(\"C\", new CultureInfo(\"en-US\"): $1,234.54\n",
      "1234.536.ToString(\"C\", new CultureInfo(\"en-UK\"): ¤1,234.54\n",
      "1234.536.ToString(\"C\", new CultureInfo(\"fr-FR\"): 1 234,54 €\n",
      "1234.536.ToString(\"C\", new CultureInfo(\"in-IN\"): Rs1.234,54\n",
      "1234.536.ToString(\"F\", new CultureInfo(\"en-US\"): 1234.536\n",
      "1234.536.ToString(\"F\", new CultureInfo(\"en-UK\"): 1234.536\n",
      "1234.536.ToString(\"F\", new CultureInfo(\"fr-FR\"): 1234,536\n",
      "1234.536.ToString(\"F\", new CultureInfo(\"in-IN\"): 1234,536\n",
      "1234.536.ToString(\"N1\", new CultureInfo(\"en-US\"): 1,234.5\n",
      "1234.536.ToString(\"N1\", new CultureInfo(\"en-UK\"): 1,234.5\n",
      "1234.536.ToString(\"N1\", new CultureInfo(\"fr-FR\"): 1 234,5\n",
      "1234.536.ToString(\"N1\", new CultureInfo(\"in-IN\"): 1.234,5\n"
     ]
    }
   ],
   "source": [
    "// output numeric values in different Culture\n",
    "Action<double, string> x = (val, c) => {\n",
    "\tConsole.WriteLine($\"{val}.ToString(\\\"{c}\\\", new CultureInfo(\\\"en-US\\\"): {val.ToString(c, new System.Globalization.CultureInfo(\"en-US\"))}\");\n",
    "\tConsole.WriteLine($\"{val}.ToString(\\\"{c}\\\", new CultureInfo(\\\"en-UK\\\"): {val.ToString(c, new System.Globalization.CultureInfo(\"en-UK\"))}\");\n",
    "\tConsole.WriteLine($\"{val}.ToString(\\\"{c}\\\", new CultureInfo(\\\"fr-FR\\\"): {val.ToString(c, new System.Globalization.CultureInfo(\"fr-FR\"))}\");\n",
    "\tConsole.WriteLine($\"{val}.ToString(\\\"{c}\\\", new CultureInfo(\\\"in-IN\\\"): {val.ToString(c, new System.Globalization.CultureInfo(\"in-IN\"))}\");\n",
    "};\n",
    "x(1234.536, \"C\"); // Currency format\n",
    "x(1234.536, \"F\"); // Float\n",
    "x(1234.536, \"N1\"); // one decimal place"
   ]
  },
  {
   "cell_type": "code",
   "execution_count": 10,
   "metadata": {},
   "outputs": [
    {
     "name": "stdout",
     "output_type": "stream",
     "text": [
      "3/20/2017 12:00:00 AM.ToString(\"d\", new CultureInfo(\"en-US\"): 3/20/2017\n",
      "3/20/2017 12:00:00 AM.ToString(\"d\", new CultureInfo(\"en-UK\"): 3/20/2017\n",
      "3/20/2017 12:00:00 AM.ToString(\"d\", new CultureInfo(\"fr-FR\"): 20/03/2017\n",
      "3/20/2017 12:00:00 AM.ToString(\"d\", new CultureInfo(\"in-IN\"): 20/03/2017\n",
      "3/20/2017 12:00:00 AM.ToString(\"D\", new CultureInfo(\"en-US\"): Monday, March 20, 2017\n",
      "3/20/2017 12:00:00 AM.ToString(\"D\", new CultureInfo(\"en-UK\"): Monday, March 20, 2017\n",
      "3/20/2017 12:00:00 AM.ToString(\"D\", new CultureInfo(\"fr-FR\"): lundi 20 mars 2017\n",
      "3/20/2017 12:00:00 AM.ToString(\"D\", new CultureInfo(\"in-IN\"): Senin, 20 Maret 2017\n"
     ]
    }
   ],
   "source": [
    "// output date values in different cultures\n",
    "Action<DateTime, string> d = (val, c) => {\n",
    "\tConsole.WriteLine($\"{val}.ToString(\\\"{c}\\\", new CultureInfo(\\\"en-US\\\"): {val.ToString(c, new System.Globalization.CultureInfo(\"en-US\"))}\");\n",
    "\tConsole.WriteLine($\"{val}.ToString(\\\"{c}\\\", new CultureInfo(\\\"en-UK\\\"): {val.ToString(c, new System.Globalization.CultureInfo(\"en-UK\"))}\");\n",
    "\tConsole.WriteLine($\"{val}.ToString(\\\"{c}\\\", new CultureInfo(\\\"fr-FR\\\"): {val.ToString(c, new System.Globalization.CultureInfo(\"fr-FR\"))}\");\n",
    "\tConsole.WriteLine($\"{val}.ToString(\\\"{c}\\\", new CultureInfo(\\\"in-IN\\\"): {val.ToString(c, new System.Globalization.CultureInfo(\"in-IN\"))}\");\n",
    "};\n",
    "d(new DateTime(2017, 3, 20), \"d\");\n",
    "d(new DateTime(2017, 3, 20), \"D\");"
   ]
  },
  {
   "cell_type": "markdown",
   "metadata": {},
   "source": [
    "### Custom Formatting"
   ]
  },
  {
   "cell_type": "code",
   "execution_count": 23,
   "metadata": {},
   "outputs": [
    {
     "name": "stdout",
     "output_type": "stream",
     "text": [
      "Zahid Mian\n",
      "Mian Zahid\n",
      "Zahid, Mian\n"
     ]
    }
   ],
   "source": [
    "public class Person\n",
    "{\n",
    "    public string FirstName, LastName;\n",
    "    public Person(string first, string last){\n",
    "        FirstName = first;\n",
    "        LastName = last;\n",
    "    }\n",
    "    public string ToString(string format)\n",
    "    {\n",
    "        // must implement G (general)\n",
    "        if (string.IsNullOrWhiteSpace(format) || format == \"G\") format = \"FL\";\n",
    "\n",
    "        format = format.Trim().ToUpperInvariant();\n",
    "\n",
    "        switch (format)\n",
    "        {\n",
    "            case \"FL\":\n",
    "                return FirstName + \" \" + LastName;\n",
    "            case \"LF\":\n",
    "                return LastName + \" \" + FirstName;\n",
    "            case \"FSL\":\n",
    "                return FirstName + \", \" + LastName;\n",
    "            case \"LSF\":\n",
    "                return LastName + \", \" + FirstName;\n",
    "            default:\n",
    "                throw new FormatException(String.Format(\n",
    "                        \"The '{0}' format string is not supported.\", format));\n",
    "        }\n",
    "    }\n",
    "}\n",
    "\n",
    "var person = new Person(\"Zahid\", \"Mian\");\n",
    "// notice the use of ToString to pass the format\n",
    "Action<Person, string> x = (p, fmt) => Console.WriteLine(p.ToString(fmt));\n",
    "x(person, \"FL\");\n",
    "x(person, \"LF\");\n",
    "x(person, \"FSL\");\n"
   ]
  },
  {
   "cell_type": "markdown",
   "metadata": {},
   "source": [
    "### IFormattable  \n",
    "provides the functionality to format the value of an object into a string representation. It is also used by the Convert class to do the opposite (from string to value)."
   ]
  },
  {
   "cell_type": "code",
   "execution_count": 28,
   "metadata": {},
   "outputs": [
    {
     "name": "stdout",
     "output_type": "stream",
     "text": [
      "100.00 °C (Celsius) = 373.15 K (Kelvin) = 212.00 °F (Fahrenheit)\n",
      "\n"
     ]
    }
   ],
   "source": [
    "using System.Globalization;\n",
    "\n",
    "public class Temperature : IFormattable\n",
    "{\n",
    "   private decimal temp;\n",
    "   \n",
    "   public Temperature(decimal temperature)\n",
    "   {\n",
    "      if (temperature < -273.15m) \n",
    "        throw new ArgumentOutOfRangeException(String.Format(\"{0} is less than absolute zero.\", \n",
    "                                              temperature));\n",
    "      this.temp = temperature;\n",
    "   }\n",
    "   \n",
    "   public decimal Celsius\n",
    "   {\n",
    "      get { return temp; }\n",
    "   }\n",
    "   \n",
    "   public decimal Fahrenheit\n",
    "   {\n",
    "      get { return temp * 9 / 5 + 32; }\n",
    "   }\n",
    "   \n",
    "   public decimal Kelvin\n",
    "   {\n",
    "      get { return temp + 273.15m; }\n",
    "   }\n",
    "\n",
    "   public override string ToString()\n",
    "   {\n",
    "      return this.ToString(\"G\", CultureInfo.CurrentCulture);\n",
    "   }\n",
    "      \n",
    "   public string ToString(string format)\n",
    "   {\n",
    "      return this.ToString(format, CultureInfo.CurrentCulture);\n",
    "   }\n",
    "   \n",
    "   public string ToString(string format, IFormatProvider provider) \n",
    "   {\n",
    "      if (String.IsNullOrEmpty(format)) format = \"G\";\n",
    "      if (provider == null) provider = CultureInfo.CurrentCulture;\n",
    "      \n",
    "      switch (format.ToUpperInvariant())\n",
    "      {\n",
    "         case \"G\":\n",
    "         case \"C\":\n",
    "            return temp.ToString(\"F2\", provider) + \" °C\"; \n",
    "         case \"F\":\n",
    "            return Fahrenheit.ToString(\"F2\", provider) + \" °F\";\n",
    "         case \"K\":\n",
    "            return Kelvin.ToString(\"F2\", provider) + \" K\";\n",
    "         default:\n",
    "            throw new FormatException(String.Format(\"The {0} format string is not supported.\", format));\n",
    "      }\n",
    "   }\n",
    "}\n",
    "\n",
    "var temp = new Temperature(100); // 100 Celcius\n",
    "Console.WriteLine(\"{0:C} (Celsius) = {0:K} (Kelvin) = {0:F} (Fahrenheit)\\n\", temp);"
   ]
  },
  {
   "cell_type": "code",
   "execution_count": null,
   "metadata": {},
   "outputs": [],
   "source": []
  }
 ],
 "metadata": {
  "kernelspec": {
   "display_name": ".NET (C#)",
   "language": "C#",
   "name": ".net-csharp"
  },
  "language_info": {
   "file_extension": ".cs",
   "mimetype": "text/x-csharp",
   "name": "C#",
   "pygments_lexer": "csharp",
   "version": "8.0"
  }
 },
 "nbformat": 4,
 "nbformat_minor": 4
}
