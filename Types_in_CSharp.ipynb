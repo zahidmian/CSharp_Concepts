{
 "cells": [
  {
   "cell_type": "markdown",
   "metadata": {},
   "source": [
    "# Data Types in C#\n",
    "## Value vs. Reference\n",
    "### Value Types: stack per thread\n",
    "**bool, byte, char, decimal, double, enum, float, int, long, sbytes, short, struct, uint, ulong, ushort**\n",
    "### Reference Types: heap\n",
    "**Classes, Delegates, Interfaces, Object (base type), String**\n",
    "#### value to reference called _boxing_"
   ]
  },
  {
   "cell_type": "markdown",
   "metadata": {},
   "source": [
    "#### implicit type conversion"
   ]
  },
  {
   "cell_type": "code",
   "execution_count": 5,
   "metadata": {},
   "outputs": [
    {
     "name": "stdout",
     "output_type": "stream",
     "text": [
      "value: 42 \t type: System.Double\n"
     ]
    }
   ],
   "source": [
    "int x = 42;\n",
    "double d = x; // implicitly changes int to double\n",
    "Console.WriteLine($\"value: {d} \\t type: {d.GetType()}\");"
   ]
  },
  {
   "cell_type": "markdown",
   "metadata": {},
   "source": [
    "#### explicit type conversion"
   ]
  },
  {
   "cell_type": "code",
   "execution_count": 6,
   "metadata": {},
   "outputs": [
    {
     "name": "stdout",
     "output_type": "stream",
     "text": [
      "value: 42 \t type: System.Int32\n"
     ]
    }
   ],
   "source": [
    "double d = 42.5;\n",
    "int x = (int) d; // explicity cast/convert to int\n",
    "Console.WriteLine($\"value: {x} \\t type: {x.GetType()}\");"
   ]
  },
  {
   "cell_type": "markdown",
   "metadata": {},
   "source": [
    "#### User Defined conversions"
   ]
  },
  {
   "cell_type": "code",
   "execution_count": 9,
   "metadata": {},
   "outputs": [
    {
     "name": "stdout",
     "output_type": "stream",
     "text": [
      "value: 42.55 \t type: System.Decimal\n"
     ]
    }
   ],
   "source": [
    "class Money\n",
    "{\n",
    "    public Money(decimal amount)\n",
    "    {\n",
    "        Amount = amount;\n",
    "    }\n",
    "    public decimal Amount { get; set; }\n",
    "    \n",
    "    // declare an implicit user-defined type conversion operator\n",
    "    public static implicit operator decimal(Money money)\n",
    "    {\n",
    "        return money.Amount;\n",
    "    }\n",
    "    \n",
    "    // declare an explicit user-defined type conversion operator\n",
    "    public static explicit operator int(Money money)\n",
    "    {\n",
    "        return (int)money.Amount;\n",
    "    }\n",
    "}\n",
    "\n",
    "Money m = new Money(42.55M);\n",
    "decimal amount = m;  // implicit conversion\n",
    "Console.WriteLine($\"value: {amount} \\t type: {amount.GetType()}\");"
   ]
  },
  {
   "cell_type": "code",
   "execution_count": 10,
   "metadata": {},
   "outputs": [
    {
     "name": "stdout",
     "output_type": "stream",
     "text": [
      "value: 42 \t type: System.Int32\n"
     ]
    }
   ],
   "source": [
    "int truncatedAmount = (int)m; // explicit conversion\n",
    "Console.WriteLine($\"value: {truncatedAmount} \\t type: {truncatedAmount.GetType()}\");"
   ]
  },
  {
   "cell_type": "markdown",
   "metadata": {},
   "source": [
    "#### Conversions with Helper Class"
   ]
  },
  {
   "cell_type": "code",
   "execution_count": 13,
   "metadata": {},
   "outputs": [
    {
     "name": "stdout",
     "output_type": "stream",
     "text": [
      "value: 42 \t type: System.Int32\n"
     ]
    }
   ],
   "source": [
    "int i = Convert.ToInt32(\"42\");\n",
    "Console.WriteLine($\"value: {i} \\t type: {i.GetType()}\")"
   ]
  },
  {
   "cell_type": "code",
   "execution_count": 14,
   "metadata": {},
   "outputs": [
    {
     "name": "stdout",
     "output_type": "stream",
     "text": [
      "value: 42 \t type: System.Int32\n"
     ]
    }
   ],
   "source": [
    "i = int.Parse(\"42\");\n",
    "Console.WriteLine($\"value: {i} \\t type: {i.GetType()}\")"
   ]
  },
  {
   "cell_type": "code",
   "execution_count": 25,
   "metadata": {},
   "outputs": [
    {
     "name": "stdout",
     "output_type": "stream",
     "text": [
      "success: True \t value: 42 \t type: System.Int32\n"
     ]
    }
   ],
   "source": [
    "int val; \n",
    "// because \"42\" can be parsed to int, it will succeed\n",
    "bool success = int.TryParse(\"42\", out val);\n",
    "Console.WriteLine($\"success: {success} \\t value: {val} \\t type: {val.GetType()}\")"
   ]
  },
  {
   "cell_type": "code",
   "execution_count": 24,
   "metadata": {},
   "outputs": [
    {
     "name": "stdout",
     "output_type": "stream",
     "text": [
      "success: False \t value: 0 \t type: System.Int32\n"
     ]
    }
   ],
   "source": [
    "int val; \n",
    "// because \"m42\" cannot be parsed to int, it will fail\n",
    "bool success = int.TryParse(\"m42\", out val);\n",
    "Console.WriteLine($\"success: {success} \\t value: {val} \\t type: {val.GetType()}\")"
   ]
  },
  {
   "cell_type": "markdown",
   "metadata": {},
   "source": [
    "#### is vs as operators\n",
    "* **is** confirms if a variable is of a certain type  \n",
    "* **as** returns the converted value or null"
   ]
  },
  {
   "cell_type": "code",
   "execution_count": 26,
   "metadata": {},
   "outputs": [
    {
     "name": "stdout",
     "output_type": "stream",
     "text": [
      "True\n"
     ]
    }
   ],
   "source": [
    "int x = 100;\n",
    "Console.WriteLine($\"{x is int}\")"
   ]
  },
  {
   "cell_type": "code",
   "execution_count": 27,
   "metadata": {},
   "outputs": [
    {
     "name": "stdout",
     "output_type": "stream",
     "text": [
      "False\n"
     ]
    }
   ],
   "source": [
    "int x = 100;\n",
    "Console.WriteLine($\"{x is decimal}\")"
   ]
  },
  {
   "cell_type": "markdown",
   "metadata": {},
   "source": [
    "#### **as** a bit confusing"
   ]
  },
  {
   "cell_type": "code",
   "execution_count": 43,
   "metadata": {},
   "outputs": [
    {
     "name": "stdout",
     "output_type": "stream",
     "text": [
      "lion is null\n"
     ]
    }
   ],
   "source": [
    "interface Animal \n",
    "{\n",
    "  void run(); \n",
    "}\n",
    "\n",
    "class Tiger:Animal{\n",
    "    public void run(){\n",
    "        Console.WriteLine(\"Tiger is running\");\n",
    "    }\n",
    "}\n",
    "\n",
    "class Lion:Animal{\n",
    "    public void run(){\n",
    "        Console.WriteLine(\"Lion is running\");\n",
    "    }\n",
    "}\n",
    "\n",
    "Animal animal = new Tiger();\n",
    "// clearly tiger is of type Tiger, but let's try to change it to Lion\n",
    "var lion = animal as Lion;\n",
    "if (l is null){\n",
    "    Console.WriteLine(\"lion is null\");\n",
    "}\n",
    "else {\n",
    "    Console.WriteLine($\"lion is of type {lion.GetType()}\");\n",
    "}\n",
    "// as type returns null if type does not match"
   ]
  },
  {
   "cell_type": "markdown",
   "metadata": {},
   "source": [
    "#### Numeric Literals\n",
    "* F or f (float)\n",
    "* U or u (unit)\n",
    "* UL or ul (ulong)\n",
    "* M or m (decimal) \n",
    "* 0x for Hexadecimal (0x10)"
   ]
  },
  {
   "cell_type": "code",
   "execution_count": 46,
   "metadata": {},
   "outputs": [
    {
     "name": "stdout",
     "output_type": "stream",
     "text": [
      "type of x is System.Single\n"
     ]
    }
   ],
   "source": [
    "var x = 34f;\n",
    "Console.WriteLine($\"type of x is {x.GetType()}\");"
   ]
  },
  {
   "cell_type": "code",
   "execution_count": 47,
   "metadata": {},
   "outputs": [
    {
     "name": "stdout",
     "output_type": "stream",
     "text": [
      "type of x is System.Decimal\n"
     ]
    }
   ],
   "source": [
    "var x = 23m;\n",
    "Console.WriteLine($\"type of x is {x.GetType()}\");"
   ]
  },
  {
   "cell_type": "code",
   "execution_count": 51,
   "metadata": {},
   "outputs": [
    {
     "name": "stdout",
     "output_type": "stream",
     "text": [
      "values of x is 255 and type of x is System.Int32\n"
     ]
    }
   ],
   "source": [
    "var x = 0xFF;\n",
    "Console.WriteLine($\"values of x is {x} and type of x is {x.GetType()}\");"
   ]
  },
  {
   "cell_type": "markdown",
   "metadata": {},
   "source": [
    "#### implicit \"type\" var  \n",
    "An implicitly typed local variable is strongly typed just as if you had declared the type yourself, but the compiler determines the type"
   ]
  },
  {
   "cell_type": "code",
   "execution_count": 99,
   "metadata": {},
   "outputs": [
    {
     "name": "stdout",
     "output_type": "stream",
     "text": [
      "Type of x is System.Int32\n",
      "Type of z is System.String\n"
     ]
    }
   ],
   "source": [
    "var x = 3;\n",
    "Console.WriteLine($\"Type of x is {x.GetType()}\");\n",
    "\n",
    "var z = \"hi\";\n",
    "Console.WriteLine($\"Type of z is {z.GetType()}\");"
   ]
  },
  {
   "cell_type": "code",
   "execution_count": null,
   "metadata": {},
   "outputs": [],
   "source": [
    "// once a variable is declared with var, it's type cannot change\n",
    "// for example, cannot assign a string to x because x is of type Int32\n",
    "x = \"hi\";"
   ]
  },
  {
   "cell_type": "markdown",
   "metadata": {},
   "source": [
    "#### Enums"
   ]
  },
  {
   "cell_type": "code",
   "execution_count": 53,
   "metadata": {},
   "outputs": [
    {
     "name": "stdout",
     "output_type": "stream",
     "text": [
      "days is Sat\n"
     ]
    }
   ],
   "source": [
    "// define some enums\n",
    "public enum Gender {Male, Female};\n",
    "\n",
    "// specify the type \n",
    "enum Days : byte {Sat = 1, Sun, Mon, Tue, Wed, Thu, Fri};\n",
    "Days day  = Days.Sat;\n",
    "if ((byte)day == 1) {\n",
    "    Console.WriteLine(\"days is Sat\");\n",
    "}\n"
   ]
  },
  {
   "cell_type": "code",
   "execution_count": 67,
   "metadata": {},
   "outputs": [
    {
     "name": "stdout",
     "output_type": "stream",
     "text": [
      "Yes, Monday is a reading day!\n"
     ]
    }
   ],
   "source": [
    "// use as Flags\n",
    "[Flags]\n",
    "enum Days\n",
    "{\n",
    "    None = 0x0,\n",
    "    Sunday = 0x1,\n",
    "    Monday = 0x2,\n",
    "    Tuesday = 0x4,\n",
    "    Wednesday = 0x8,\n",
    "    Thursday = 0x10,\n",
    "    Friday = 0x20,\n",
    "    Saturday = 0x40\n",
    "}\n",
    "Days readingDays = Days.Monday | Days.Saturday;\n",
    "var day = Days.Monday;\n",
    "\n",
    "if ((day & readingDays) == day){\n",
    "    Console.WriteLine($\"Yes, {Enum.GetName(typeof(Days),day)} is a reading day!\");\n",
    "} else {\n",
    "    Console.WriteLine(\"No, {Enum.GetName(typeof(Days),day)} is a reading day!\");\n",
    "}"
   ]
  },
  {
   "cell_type": "markdown",
   "metadata": {},
   "source": [
    "### Structs (value type)"
   ]
  },
  {
   "cell_type": "code",
   "execution_count": 68,
   "metadata": {},
   "outputs": [
    {
     "name": "stdout",
     "output_type": "stream",
     "text": [
      "p.x is 1\n"
     ]
    }
   ],
   "source": [
    "public struct Point\n",
    "{\n",
    "    public int x, y;\n",
    "    public Point(int p1, int p2)\n",
    "    {\n",
    "        x = p1;\n",
    "        y = p2;   \n",
    "   }\n",
    "}\n",
    "\n",
    "var p= new Point(1,3);\n",
    "Console.WriteLine($\"p.x is {p.x}\");\n"
   ]
  },
  {
   "cell_type": "markdown",
   "metadata": {},
   "source": [
    "### Named Parameters"
   ]
  },
  {
   "cell_type": "code",
   "execution_count": 71,
   "metadata": {},
   "outputs": [
    {
     "name": "stdout",
     "output_type": "stream",
     "text": [
      "do something with Fred\n",
      "do something with Fred\n",
      "do something with Fred\n"
     ]
    }
   ],
   "source": [
    "public void AddEmployee(int id, string Name, int Age) {\n",
    "  Console.WriteLine($\"do something with {Name}\");\n",
    "}\n",
    "\n",
    "// call by parameter order\n",
    "AddEmployee(1, \"Fred\", 50);\n",
    "\n",
    "// call by parameter names\n",
    "AddEmployee(id: 1, Age: 50, Name: \"Fred\");\n",
    "\n",
    "// positional argument cannot follow name argument\n",
    "AddEmployee(1, Age: 50, Name: \"Fred\"); // OK\n",
    "\n"
   ]
  },
  {
   "cell_type": "code",
   "execution_count": 72,
   "metadata": {},
   "outputs": [
    {
     "ename": "Unhandled Exception",
     "evalue": "(2,16): error CS8323: Named argument 'Age' is used out-of-position but is followed by an unnamed argument",
     "output_type": "error",
     "traceback": [
      "(2,16): error CS8323: Named argument 'Age' is used out-of-position but is followed by an unnamed argument"
     ]
    }
   ],
   "source": [
    "// once a name is used, all following parameters must be named as well\n",
    "AddEmployee(1, Age: 50,  \"Fred\"); // NOT OK"
   ]
  },
  {
   "cell_type": "markdown",
   "metadata": {},
   "source": [
    "### DyanmicObject  \n",
    "implement own custom types supporting dynamic dispatch with custom underlying storage and retrieval behavior"
   ]
  },
  {
   "cell_type": "code",
   "execution_count": 88,
   "metadata": {},
   "outputs": [
    {
     "name": "stdout",
     "output_type": "stream",
     "text": [
      "2019\n"
     ]
    }
   ],
   "source": [
    "using System.Dynamic;\n",
    "\n",
    "// dynamic object with \"magical\" properties\n",
    "// keyword that tells the compiler to ignore static type checking at design-time \n",
    "// and instead to use late-binding at run-time\n",
    "\n",
    "dynamic bag = new ExpandoObject();\n",
    "bag.Model = \"Maserati\";\n",
    "bag.Year = 2019;\n",
    "Console.WriteLine($\"{bag.Year}\");"
   ]
  },
  {
   "cell_type": "code",
   "execution_count": 90,
   "metadata": {},
   "outputs": [
    {
     "ename": "Unhandled Exception",
     "evalue": "'System.Dynamic.ExpandoObject' does not contain a definition for 'Price'",
     "output_type": "error",
     "traceback": [
      "Unhandled Exception",
      "'System.Dynamic.ExpandoObject' does not contain a definition for 'Price'",
      "   at CallSite.Target(Closure , CallSite , Object )",
      "   at System.Dynamic.UpdateDelegates.UpdateAndExecute1[T0,TRet](CallSite site, T0 arg0)",
      "   at Submission#91.<<Initialize>>d__0.MoveNext()",
      "--- End of stack trace from previous location where exception was thrown ---",
      "   at Microsoft.CodeAnalysis.Scripting.ScriptExecutionState.RunSubmissionsAsync[TResult](ImmutableArray`1 precedingExecutors, Func`2 currentExecutor, StrongBox`1 exceptionHolderOpt, Func`2 catchExceptionOpt, CancellationToken cancellationToken)"
     ]
    }
   ],
   "source": [
    "Console.WriteLine($\"{bag.Price}\");"
   ]
  },
  {
   "cell_type": "markdown",
   "metadata": {},
   "source": [
    "#### Create a custom object using ExpandoObject"
   ]
  },
  {
   "cell_type": "code",
   "execution_count": 84,
   "metadata": {},
   "outputs": [],
   "source": [
    "public class Bag : System.Dynamic.DynamicObject\n",
    "{\n",
    "    // The inner dictionary.\n",
    "    Dictionary<string, object> dictionary\n",
    "        = new Dictionary<string, object>();\n",
    "\n",
    "\n",
    "    public override bool TrySetMember(SetMemberBinder binder, object value)\n",
    "    {\n",
    "        //dictionary[binder.Name.ToLower()] = value;\n",
    "        dictionary[binder.Name] = value;\n",
    "        return true;\n",
    "    }\n",
    "\n",
    "    public override String ToString()\n",
    "    {\n",
    "        System.Text.StringBuilder sb = new StringBuilder();\n",
    "        sb.Append(\"\\nBag Contains...\\n\");\n",
    "        foreach (var o in dictionary)\n",
    "        {\n",
    "            sb.Append($\"{o.Key}: {o.Value}\\n\");\n",
    "        }\n",
    "        return sb.ToString();\n",
    "    }\n",
    "\n",
    "    public override bool TryGetMember(GetMemberBinder binder, out object result)\n",
    "    {\n",
    "        // convert name to lowercase\n",
    "        //string name = binder.Name.ToLower();\n",
    "\n",
    "        // If the property name is found in a dictionary,\n",
    "        // set the result parameter to the property value and return true.\n",
    "        // Otherwise, return false.\n",
    "        return dictionary.TryGetValue(binder.Name, out result);\n",
    "    }\n",
    "\n",
    "}\n",
    "\n",
    "dynamic bag = new Bag();\n",
    "bag.Model = \"Maserati\";\n",
    "bag.Year = 2019;\n",
    "bag.Color = \"Red\";"
   ]
  },
  {
   "cell_type": "code",
   "execution_count": 85,
   "metadata": {},
   "outputs": [
    {
     "name": "stdout",
     "output_type": "stream",
     "text": [
      "My Red Maserati\n"
     ]
    }
   ],
   "source": [
    "Console.WriteLine($\"My {bag.Color} {bag.Model}\");"
   ]
  },
  {
   "cell_type": "code",
   "execution_count": null,
   "metadata": {},
   "outputs": [],
   "source": [
    "// what happens if we try to reference a property that we didn't create?\n"
   ]
  },
  {
   "cell_type": "code",
   "execution_count": 87,
   "metadata": {},
   "outputs": [
    {
     "ename": "Unhandled Exception",
     "evalue": "'Submission#85.Bag' does not contain a definition for 'Price'",
     "output_type": "error",
     "traceback": [
      "Unhandled Exception",
      "'Submission#85.Bag' does not contain a definition for 'Price'",
      "   at CallSite.Target(Closure , CallSite , Object )",
      "   at System.Dynamic.UpdateDelegates.UpdateAndExecute1[T0,TRet](CallSite site, T0 arg0)",
      "   at Submission#88.<<Initialize>>d__0.MoveNext()",
      "--- End of stack trace from previous location where exception was thrown ---",
      "   at Microsoft.CodeAnalysis.Scripting.ScriptExecutionState.RunSubmissionsAsync[TResult](ImmutableArray`1 precedingExecutors, Func`2 currentExecutor, StrongBox`1 exceptionHolderOpt, Func`2 catchExceptionOpt, CancellationToken cancellationToken)"
     ]
    }
   ],
   "source": [
    "Console.WriteLine($\"My {bag.Color} {bag.Price}\");\n",
    "// should return False"
   ]
  },
  {
   "cell_type": "markdown",
   "metadata": {},
   "source": [
    "### ExpandoObject  \n",
    "FULL implementation of IDynamicMetaObjectProvider, where the .NET Framework team has made all of these decisions for you"
   ]
  },
  {
   "cell_type": "code",
   "execution_count": 92,
   "metadata": {},
   "outputs": [
    {
     "name": "stdout",
     "output_type": "stream",
     "text": [
      "My Red Maserati\n"
     ]
    }
   ],
   "source": [
    "dynamic car = new ExpandoObject();\n",
    "\n",
    "car.Model = \"Maserati\";\n",
    "car.Year = 2017;\n",
    "car.Color = \"Red\";\n",
    "\n",
    "Console.WriteLine($\"My {car.Color} {car.Model}\");"
   ]
  },
  {
   "cell_type": "code",
   "execution_count": 93,
   "metadata": {},
   "outputs": [
    {
     "ename": "Unhandled Exception",
     "evalue": "'System.Dynamic.ExpandoObject' does not contain a definition for 'Price'",
     "output_type": "error",
     "traceback": [
      "Unhandled Exception",
      "'System.Dynamic.ExpandoObject' does not contain a definition for 'Price'",
      "   at CallSite.Target(Closure , CallSite , Object )",
      "   at System.Dynamic.UpdateDelegates.UpdateAndExecute1[T0,TRet](CallSite site, T0 arg0)",
      "   at Submission#94.<<Initialize>>d__0.MoveNext()",
      "--- End of stack trace from previous location where exception was thrown ---",
      "   at Microsoft.CodeAnalysis.Scripting.ScriptExecutionState.RunSubmissionsAsync[TResult](ImmutableArray`1 precedingExecutors, Func`2 currentExecutor, StrongBox`1 exceptionHolderOpt, Func`2 catchExceptionOpt, CancellationToken cancellationToken)"
     ]
    }
   ],
   "source": [
    "Console.WriteLine($\"My {car.Color} {car.Price}\");"
   ]
  },
  {
   "cell_type": "code",
   "execution_count": null,
   "metadata": {},
   "outputs": [],
   "source": []
  }
 ],
 "metadata": {
  "kernelspec": {
   "display_name": ".NET (C#)",
   "language": "C#",
   "name": ".net-csharp"
  },
  "language_info": {
   "file_extension": ".cs",
   "mimetype": "text/x-csharp",
   "name": "C#",
   "pygments_lexer": "csharp",
   "version": "8.0"
  }
 },
 "nbformat": 4,
 "nbformat_minor": 4
}
