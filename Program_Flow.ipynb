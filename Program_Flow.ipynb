{
 "cells": [
  {
   "cell_type": "markdown",
   "metadata": {},
   "source": [
    "## Program Flow"
   ]
  },
  {
   "cell_type": "markdown",
   "metadata": {},
   "source": []
  },
  {
   "cell_type": "markdown",
   "metadata": {},
   "source": [
    "#### goto (oldie but goodie)"
   ]
  },
  {
   "cell_type": "code",
   "execution_count": 2,
   "metadata": {},
   "outputs": [
    {
     "name": "stdout",
     "output_type": "stream",
     "text": [
      "reached label\n"
     ]
    }
   ],
   "source": [
    "void method() {\n",
    "    goto mylabel;\n",
    "\n",
    "    Console.WriteLine(\"This will never print\");\n",
    "\n",
    "   mylabel:\n",
    "     Console.WriteLine(\"reached label\");\n",
    "}\n",
    "method();"
   ]
  },
  {
   "cell_type": "markdown",
   "metadata": {},
   "source": [
    "#### ternary operator (?:)"
   ]
  },
  {
   "cell_type": "code",
   "execution_count": 3,
   "metadata": {},
   "outputs": [
    {
     "data": {
      "text/plain": [
       "True"
      ]
     },
     "execution_count": 3,
     "metadata": {},
     "output_type": "execute_result"
    }
   ],
   "source": [
    "var z = (5>4)?true: false;\n",
    "z"
   ]
  },
  {
   "cell_type": "markdown",
   "metadata": {},
   "source": [
    "#### If statement"
   ]
  },
  {
   "cell_type": "code",
   "execution_count": 6,
   "metadata": {},
   "outputs": [
    {
     "name": "stdout",
     "output_type": "stream",
     "text": [
      "Good Evening\n"
     ]
    }
   ],
   "source": [
    "// good practice to use curly brackets, but not necesary for single statement block\n",
    "if (DateTime.Now.Hour > 5 & DateTime.Now.Hour < 10)\n",
    "    Console.WriteLine(\"Good Morning\");\n",
    "else if(DateTime.Now.Hour >=10 & DateTime.Now.Hour < 15) {\n",
    "    Console.WriteLine(\"Good Afternoon\");\n",
    "}\n",
    "else {\n",
    "    Console.WriteLine(\"Good Evening\");\n",
    "}\n"
   ]
  },
  {
   "cell_type": "markdown",
   "metadata": {},
   "source": [
    "#### Switch statement  \n",
    "**Note:**  \n",
    "* case must resolve to the same type as str (in this example)\n",
    "* each case must have a break statement"
   ]
  },
  {
   "cell_type": "code",
   "execution_count": 9,
   "metadata": {},
   "outputs": [
    {
     "name": "stdout",
     "output_type": "stream",
     "text": [
      "It's hello\n"
     ]
    }
   ],
   "source": [
    "var str = \"hello\";\n",
    "switch(str){\n",
    "    case \"hello\":\n",
    "        Console.WriteLine(\"It's hello\");\n",
    "        break;\n",
    "    case \"bye\":\n",
    "        Console.WriteLine(\"It's a wrap!\");\n",
    "        break;\n",
    "    default:\n",
    "        Console.WriteLine(\"No case matched\");\n",
    "        break; // must have break\n",
    "}\n"
   ]
  },
  {
   "cell_type": "markdown",
   "metadata": {},
   "source": [
    "#### Do loop"
   ]
  },
  {
   "cell_type": "code",
   "execution_count": 10,
   "metadata": {},
   "outputs": [
    {
     "name": "stdout",
     "output_type": "stream",
     "text": [
      "6\n",
      "7\n",
      "8\n",
      "9\n",
      "10\n",
      "x equals 10 after loop\n"
     ]
    }
   ],
   "source": [
    "var x = 5;\n",
    "do{\n",
    "    Console.WriteLine(++x);\n",
    "} while (x< 10);\n",
    "Console.WriteLine($\"x equals {x} after loop\");"
   ]
  },
  {
   "cell_type": "markdown",
   "metadata": {},
   "source": [
    "#### While loop"
   ]
  },
  {
   "cell_type": "code",
   "execution_count": 12,
   "metadata": {},
   "outputs": [
    {
     "name": "stdout",
     "output_type": "stream",
     "text": [
      "6\n",
      "7\n",
      "8\n",
      "9\n",
      "10\n",
      "x equals 10 after loop\n"
     ]
    }
   ],
   "source": [
    "var x = 5;\n",
    "while (x < 10){\n",
    "    Console.WriteLine(++x);\n",
    "} while (x< 10);\n",
    "Console.WriteLine($\"x equals {x} after loop\");"
   ]
  },
  {
   "cell_type": "markdown",
   "metadata": {},
   "source": [
    "#### For Loop"
   ]
  },
  {
   "cell_type": "code",
   "execution_count": 13,
   "metadata": {},
   "outputs": [
    {
     "name": "stdout",
     "output_type": "stream",
     "text": [
      "2\n",
      "6\n",
      "10\n",
      "after for loop\n"
     ]
    }
   ],
   "source": [
    "for(var x = 1; x < 10; x+=3) {\n",
    "    Console.WriteLine(++x);\n",
    "} ;\n",
    "Console.WriteLine($\"after for loop\");"
   ]
  },
  {
   "cell_type": "markdown",
   "metadata": {},
   "source": [
    "#### foreach loop"
   ]
  },
  {
   "cell_type": "code",
   "execution_count": 16,
   "metadata": {},
   "outputs": [
    {
     "name": "stdout",
     "output_type": "stream",
     "text": [
      "apples\n",
      "and\n",
      "bananas\n"
     ]
    }
   ],
   "source": [
    "String[] strings = new String[]{\"apples\", \"and\", \"bananas\"};\n",
    "foreach(var s in strings){\n",
    "    Console.WriteLine(s);\n",
    "}"
   ]
  },
  {
   "cell_type": "markdown",
   "metadata": {},
   "source": [
    "#### Looping interruptions  \n",
    "* **break** exit loop\n",
    "* **continue** resume at the next iteration\n",
    "* **goto** go to a specific label\n",
    "* **return** return from method"
   ]
  },
  {
   "cell_type": "code",
   "execution_count": 20,
   "metadata": {},
   "outputs": [
    {
     "name": "stdout",
     "output_type": "stream",
     "text": [
      "apples\n"
     ]
    }
   ],
   "source": [
    "String[] strings = new String[]{\"apples\", \"and\", \"bananas\"};\n",
    "foreach(var s in strings){\n",
    "    if (s == \"and\"){\n",
    "        break; // break out of loop\n",
    "    }\n",
    "    Console.WriteLine(s);\n",
    "}"
   ]
  },
  {
   "cell_type": "code",
   "execution_count": 18,
   "metadata": {},
   "outputs": [
    {
     "name": "stdout",
     "output_type": "stream",
     "text": [
      "apples\n",
      "bananas\n"
     ]
    }
   ],
   "source": [
    "String[] strings = new String[]{\"apples\", \"and\", \"bananas\"};\n",
    "foreach(var s in strings){\n",
    "    if (s == \"and\"){\n",
    "        continue; // resume to next iteration\n",
    "    }\n",
    "    Console.WriteLine(s);\n",
    "}"
   ]
  },
  {
   "cell_type": "code",
   "execution_count": 23,
   "metadata": {},
   "outputs": [
    {
     "name": "stdout",
     "output_type": "stream",
     "text": [
      "apples\n",
      "I'm all the way down here!\n",
      "So no more fruit?\n"
     ]
    }
   ],
   "source": [
    "String[] strings = new String[]{\"apples\", \"and\", \"bananas\"};\n",
    "foreach(var s in strings){\n",
    "    if (s == \"and\"){\n",
    "        goto abc;\n",
    "    }\n",
    "    Console.WriteLine(s);\n",
    "}\n",
    "\n",
    "abc: \n",
    "    Console.WriteLine(\"I'm all the way down here!\");\n",
    "\n",
    "Console.WriteLine(\"So no more fruit?\");"
   ]
  },
  {
   "cell_type": "code",
   "execution_count": 27,
   "metadata": {},
   "outputs": [
    {
     "name": "stdout",
     "output_type": "stream",
     "text": [
      "Call the method\n",
      "apples\n",
      "Method finished\n"
     ]
    }
   ],
   "source": [
    "public void DoSomething(){\n",
    "    String[] strings = new String[]{\"apples\", \"and\", \"bananas\"};\n",
    "    foreach(var s in strings){\n",
    "        if (s == \"and\"){\n",
    "            return;\n",
    "        }\n",
    "        Console.WriteLine(s);\n",
    "    }    \n",
    "}\n",
    "\n",
    "Console.WriteLine(\"Call the method\");\n",
    "DoSomething();\n",
    "Console.WriteLine(\"Method finished\");"
   ]
  },
  {
   "cell_type": "code",
   "execution_count": null,
   "metadata": {},
   "outputs": [],
   "source": []
  }
 ],
 "metadata": {
  "kernelspec": {
   "display_name": ".NET (C#)",
   "language": "C#",
   "name": ".net-csharp"
  },
  "language_info": {
   "file_extension": ".cs",
   "mimetype": "text/x-csharp",
   "name": "C#",
   "pygments_lexer": "csharp",
   "version": "8.0"
  }
 },
 "nbformat": 4,
 "nbformat_minor": 4
}
