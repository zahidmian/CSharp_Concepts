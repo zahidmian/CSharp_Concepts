{
 "cells": [
  {
   "cell_type": "markdown",
   "metadata": {},
   "source": [
    "### Exception Handling"
   ]
  },
  {
   "cell_type": "markdown",
   "metadata": {},
   "source": [
    "#### Basic Syntax"
   ]
  },
  {
   "cell_type": "code",
   "execution_count": 4,
   "metadata": {},
   "outputs": [],
   "source": [
    "try {\n",
    "    // do some work\n",
    "}\n",
    "catch (ArgumentNullException argNullEx) {\n",
    "    // specific exception type\n",
    "}\n",
    "catch (Exception ex) {\n",
    "    // fall-thru exception type\n",
    "}\n",
    "finally {\n",
    "    // block will run regardless of exception\n",
    "}"
   ]
  },
  {
   "cell_type": "markdown",
   "metadata": {},
   "source": [
    "#### Custom Exception type"
   ]
  },
  {
   "cell_type": "code",
   "execution_count": 6,
   "metadata": {},
   "outputs": [],
   "source": [
    "// we can create our own Exception type\n",
    "public class MyException: Exception {\n",
    "    public int ID {get; set;}\n",
    "    public MyException(int id, string message) : base(message) {\n",
    "        ID = id;\n",
    "    }\n",
    "\n",
    "    public MyException(int id, string message, Exception innerException) \n",
    "        : base(message, innerException) \n",
    "    {\n",
    "        ID = id;\n",
    "    }\n",
    "}"
   ]
  },
  {
   "cell_type": "markdown",
   "metadata": {},
   "source": [
    "#### Concrete Example"
   ]
  },
  {
   "cell_type": "code",
   "execution_count": 7,
   "metadata": {},
   "outputs": [
    {
     "name": "stdout",
     "output_type": "stream",
     "text": [
      " 33  is 33\n",
      "finished with current iteration iteration\n",
      "1 is 1\n",
      "finished with current iteration iteration\n",
      "s is not a valid number\n",
      "finished with current iteration iteration\n",
      "You need to enter a value\n",
      "finished with current iteration iteration\n",
      "10s is not a valid number\n",
      "finished with current iteration iteration\n",
      "Submission#7+MyException: \n",
      "Exceptions are fun\n"
     ]
    }
   ],
   "source": [
    "// lets create an array of strings (yes, null can be assigned to a string)\n",
    "// String s = null; // perfectly valid statement because String is reference type\n",
    "\n",
    "// now try to parse each element to an int. What can go wrong?\n",
    "string[] vals = new string[] {\" 33 \", \"1\", \"s\", null, \"10s\"};\n",
    "try {\n",
    "    var counter = 0;\n",
    "    foreach(var v in vals){\n",
    "        try\n",
    "        {\n",
    "            int i = int.Parse(v);\n",
    "            Console.WriteLine($\"{v} is {i}\");\n",
    "        }\n",
    "        catch (ArgumentNullException) {\n",
    "            Console.WriteLine(\"You need to enter a value\");\n",
    "        }\n",
    "        catch (FormatException fmtEx) {\n",
    "            Console.WriteLine($\"{v} is not a valid number\");\n",
    "            counter++;\n",
    "            // throw exception if it's the second time\n",
    "            if(counter==2){\n",
    "                // if fmtEx is not sent to new Exception, details will be lost\n",
    "                throw new MyException(34, \"Exceptions are fun\", fmtEx);\n",
    "                throw; // rethrow original exception (will never get called in this case)\n",
    "            }\n",
    "        }\n",
    "        finally\n",
    "        {\n",
    "            Console.WriteLine(\"finished with current iteration iteration\");\n",
    "        }\n",
    "    }\n",
    "}\n",
    "catch (Exception ex) {\n",
    "    Console.WriteLine(ex.GetType().ToString() + \": \\n\" + ex.Message);\n",
    "}"
   ]
  },
  {
   "cell_type": "markdown",
   "metadata": {},
   "source": [
    "#### ExceptionDispatchInfo (stores the stack trace information)"
   ]
  },
  {
   "cell_type": "code",
   "execution_count": 11,
   "metadata": {},
   "outputs": [
    {
     "name": "stdout",
     "output_type": "stream",
     "text": [
      "System.FormatException: Input string was not in a correct format.\n",
      "   at System.Number.ThrowOverflowOrFormatException(ParsingStatus status, TypeCode type)\n",
      "   at System.Number.ParseInt32(ReadOnlySpan`1 value, NumberStyles styles, NumberFormatInfo info)\n",
      "   at System.Int32.Parse(String s)\n",
      "   at Submission#12.<<Initialize>>d__0.MoveNext()\n",
      "--- End of stack trace from previous location where exception was thrown ---\n",
      "   at Submission#12.<<Initialize>>d__0.MoveNext()\n"
     ]
    }
   ],
   "source": [
    "using System.Runtime.ExceptionServices;\n",
    "ExceptionDispatchInfo possibleException = null;\n",
    "\n",
    "try\n",
    "{\n",
    "    try\n",
    "    {\n",
    "        string s = \"s\";\n",
    "        int.Parse(s);\n",
    "    }\n",
    "    catch (FormatException ex)\n",
    "    {\n",
    "        possibleException = ExceptionDispatchInfo.Capture(ex);\n",
    "    }\n",
    "\n",
    "    // it can be thrown outside the try block\n",
    "    if (possibleException != null)\n",
    "    {\n",
    "        possibleException.Throw();\n",
    "    }\n",
    "\n",
    "}\n",
    "catch (Exception ex)\n",
    "{\n",
    "    Console.WriteLine(ex);\n",
    "}\n",
    "\n"
   ]
  },
  {
   "cell_type": "markdown",
   "metadata": {},
   "source": [
    "#### Runtime Exceptions in .NET Framework\n",
    "|Name|Description|\n",
    "|-------------|-------------|\n",
    "|**ArithmeticException**|A base class for other exceptions that occur during arithmetic operations.|\n",
    "|**ArrayTypeMismatchException**|Thrown when you want to store an incompatible element inside an array.|\n",
    "|**DivideByZeroException**|Thrown when you try to divide a value by zero.|\n",
    "|**IndexOutOfRangeException**|Thrown when you try to access an array with an index that’s less than zero or greater than the size of the array.|\n",
    "|**InvalidCastException**|Thrown when you try to cast an element to an incompatible type.|\n",
    "|**NullReferenceException**|Thrown when you try to reference an element that’s null.|\n",
    "|**OutOfMemoryException**|Thrown when creating a new object fails because the CLR doesn’t have enough memory available.|\n",
    "|**OverflowException**|Thrown when an arithmetic operation overflows in a checked context.|\n",
    "|**StackOverflowException**|Thrown when the execution stack is full. This can happen in a recursive operation that doesn’t exit.|\n",
    "|**TypeInitializationException**|A base class for other exceptions that occur during arithmetic operations.|\n"
   ]
  },
  {
   "cell_type": "markdown",
   "metadata": {},
   "source": [
    "#### Popular Exceptions \n",
    "|**Exception**|The base class for all exceptions. Try avoiding throwing and catching this exception because it’s too generic.|\n",
    "|-|-|\n",
    "|**ArgumentException**|Throw this exception when an argument to your method is invalid.|\n",
    "|**ArgumentNullException**|A specialized form of ArgumentException that you can throw when one of your arguments is null and this isn’t allowed.|\n",
    "|**ArgumentOutOfRangeException**|A specialized form of ArgumentException that you can throw when an argument is outside the allowable range of values.|\n",
    "|**FormatException**|Throw this exception when an argument does not have a valid format.|\n",
    "|**InvalidOperationException**|Throw this exception when a method is called that’s invalid for the object’s current state.|\n",
    "|**NotImplementedException**|This exception is often used in generated code where a method has not been implemented yet.|\n",
    "|**NotSupportedException**|Throw this exception when a method is invoked that you don’t support.|\n",
    "|**ObjectDisposedException**|Throw when a user of your class tries to access methods when Dispose has already been called.|"
   ]
  },
  {
   "cell_type": "code",
   "execution_count": null,
   "metadata": {},
   "outputs": [],
   "source": []
  }
 ],
 "metadata": {
  "kernelspec": {
   "display_name": ".NET (C#)",
   "language": "C#",
   "name": ".net-csharp"
  },
  "language_info": {
   "file_extension": ".cs",
   "mimetype": "text/x-csharp",
   "name": "C#",
   "pygments_lexer": "csharp",
   "version": "8.0"
  }
 },
 "nbformat": 4,
 "nbformat_minor": 4
}
